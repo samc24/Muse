{
 "cells": [
  {
   "cell_type": "code",
   "execution_count": 40,
   "id": "b093ce64",
   "metadata": {},
   "outputs": [],
   "source": [
    "import numpy as np\n",
    "import cv2\n",
    "import matplotlib.pyplot as plt\n",
    "from PIL import Image\n",
    "import matplotlib.patches as patches\n",
    "import tqdm.notebook\n",
    "import time\n",
    "import shapely\n",
    "from shapely.geometry import Polygon, LineString\n",
    "import pandas as pd\n",
    "import seaborn as sns\n"
   ]
  },
  {
   "cell_type": "code",
   "execution_count": 41,
   "id": "49e178c3",
   "metadata": {},
   "outputs": [],
   "source": [
    "vidcap = cv2.VideoCapture('videos_3_23/5.avi') # Open the video\n",
    "fps = vidcap.get(cv2.CAP_PROP_FPS)\n",
    "\n",
    "num_frames_vid = vidcap.get(cv2.CAP_PROP_FRAME_COUNT)\n",
    "\n",
    "frame_indices = num_frames_vid * np.random.uniform(size=50)\n",
    "\n",
    "frames = []\n",
    "\n",
    "for idx in frame_indices:\n",
    "    vidcap.set(cv2.CAP_PROP_POS_FRAMES, idx)\n",
    "    ret, frame = vidcap.read()\n",
    "    frames.append(frame)\n",
    "    \n",
    "background = np.median(frames, axis = 0).astype(np.uint8)\n",
    "\n",
    "bw_background = cv2.cvtColor(background, cv2.COLOR_BGR2GRAY)"
   ]
  },
  {
   "cell_type": "code",
   "execution_count": 42,
   "id": "27e3eff5",
   "metadata": {},
   "outputs": [],
   "source": [
    "data = []\n",
    "points = [[270, 940],\n",
    "          [1380, 1440],\n",
    "          [3500, 1440],\n",
    "          [4490, 985],\n",
    "          [3475, 380],\n",
    "          [3000, 300],\n",
    "          [2385, 255],\n",
    "          [1810, 280],\n",
    "          [1310, 345]]\n",
    "\n",
    "court_poly = Polygon(points)\n"
   ]
  },
  {
   "cell_type": "code",
   "execution_count": 43,
   "id": "1e2f5c91",
   "metadata": {},
   "outputs": [],
   "source": [
    "cnt = 0 # Initialize frame counter\n",
    "# Some characteristics from the original video\n",
    "w_frame, h_frame = int(vidcap.get(cv2.CAP_PROP_FRAME_WIDTH)), int(vidcap.get(cv2.CAP_PROP_FRAME_HEIGHT))\n",
    "fps, frames = vidcap.get(cv2.CAP_PROP_FPS), vidcap.get(cv2.CAP_PROP_FRAME_COUNT)\n",
    "# print(w_frame, h_frame, fps, frames)\n",
    "\n",
    "num_frames = 1\n",
    "vid = 'videos_3_23/5.avi'\n",
    "area_thres = 2000\n",
    "save_name = '5_cropped.avi'\n",
    "\n",
    "vidcap = cv2.VideoCapture(vid)\n",
    "frame_diffs = []\n",
    "ret = True\n",
    "i = 0\n",
    "\n",
    "start = time.time()\n",
    "\n",
    "frame_width = int(vidcap.get(3))\n",
    "frame_height = int(vidcap.get(4))\n"
   ]
  },
  {
   "cell_type": "code",
   "execution_count": 44,
   "id": "e6244a81",
   "metadata": {},
   "outputs": [],
   "source": [
    "\n",
    "# define cropping values\n",
    "vid_x,vid_y,vid_h,vid_w = 2400,0,1000,1700 \n",
    "right = False\n",
    "\n",
    "# out = cv2.VideoWriter(\n",
    "#     save_name,\n",
    "#     cv2.VideoWriter_fourcc(*'DIVX'), fps/num_frames, \n",
    "#     (vid_w, vid_h)\n",
    "# )\n",
    "# output - before differencing\n",
    "fourcc = cv2.VideoWriter_fourcc(*'XVID')\n",
    "out = cv2.VideoWriter('5_cropped.mp4', fourcc, fps/num_frames, (vid_w, vid_h))\n",
    "\n"
   ]
  },
  {
   "cell_type": "code",
   "execution_count": 45,
   "id": "38bc612d",
   "metadata": {},
   "outputs": [],
   "source": [
    "df = pd.DataFrame(data, columns = ['frame', 'x', 'w', 'y', 'h'])\n"
   ]
  },
  {
   "cell_type": "code",
   "execution_count": 46,
   "id": "4a7563ed",
   "metadata": {},
   "outputs": [
    {
     "output_type": "execute_result",
     "data": {
      "text/plain": [
       "25.0"
      ]
     },
     "metadata": {},
     "execution_count": 46
    }
   ],
   "source": [
    "fps"
   ]
  },
  {
   "cell_type": "code",
   "execution_count": 47,
   "id": "7227f752",
   "metadata": {},
   "outputs": [
    {
     "output_type": "stream",
     "name": "stdout",
     "text": [
      "122.43096685409546\n"
     ]
    }
   ],
   "source": [
    "cnt=0\n",
    "s = time.time()\n",
    "while True:\n",
    "    ret, frame = vidcap.read()\n",
    "    cnt += 1 # Counting frames\n",
    "    # Avoid problems when video finishes\n",
    "    if ret:\n",
    "        bw_frame = cv2.cvtColor(frame, cv2.COLOR_BGR2GRAY)\n",
    "        frame_diff = cv2.absdiff(bw_frame, bw_background)\n",
    "        ret, thres = cv2.threshold(frame_diff, 50, 255, cv2.THRESH_BINARY)\n",
    "        dilate_frame = cv2.dilate(thres, None, iterations=2)\n",
    "        frame_diffs.append(dilate_frame)\n",
    "        if i % num_frames == num_frames - 1:\n",
    "#             print(f'{round(time.time() - start, 3)} seconds, {round((i/num_frames_vid)*100, 1)}% complete')\n",
    "            to_save = sum(frame_diffs)\n",
    "            contours, hierarchy = cv2.findContours(to_save, cv2.RETR_EXTERNAL, cv2.CHAIN_APPROX_SIMPLE)\n",
    "            to_save = cv2.cvtColor(to_save, cv2.COLOR_GRAY2RGB)\n",
    "            cp = background.copy()\n",
    "            cp[to_save > 0] = 255\n",
    "            frame_diffs = []\n",
    "            avg = 0 # for avg x pos in each frame\n",
    "            n=0\n",
    "            for c in contours:\n",
    "                if cv2.contourArea(c) < area_thres:\n",
    "                    continue\n",
    "                else:\n",
    "                    (x, y, w, h) = cv2.boundingRect(c)\n",
    "                    player_feet = LineString([[x, y + h], [x + w, y + h]])\n",
    "                    if court_poly.contains(player_feet):\n",
    "                        data.append([i, x, w, y, h])\n",
    "                        avg+=x\n",
    "                        n+=1\n",
    "                        # cv2.rectangle(cp, (x, y), (x+w, y+h), (255, 0, 0), 2)\n",
    "                        # cv2.polylines(cp, [np.array(points).reshape((-1, 1, 2))],\n",
    "                        #               isClosed = True, color = (0, 0 ,255), thickness = 5)\n",
    "                        # cv2.line(cp, (x, y + h), (x + w, y + h), (0, 255, 0), thickness = 5)\n",
    "            try:\n",
    "                com_ = com_df.loc[i]\n",
    "                # cv2.line(cp, (com_, 0), (com_, frame_height), (0, 0, 255), thickness = 5)\n",
    "            except Exception as e:\n",
    "                pass\n",
    "            new_x = max(200,int(avg/n)-850) # 500 is arbitrary so the video doesn't start exactly at the median x \n",
    "            \n",
    "#             if vid_x==2400 or not right:\n",
    "#                 vid_x-=10\n",
    "#                 right = False\n",
    "#             if vid_x==0 or right:\n",
    "#                 vid_x+=10\n",
    "#                 right = True\n",
    "            if (new_x - vid_x) >= 200:\n",
    "                right = True\n",
    "            elif (vid_x - new_x) >=200:\n",
    "                left = True\n",
    "            else: \n",
    "                right = False\n",
    "                left = False\n",
    "            if right:\n",
    "                amt = (new_x - vid_x)//30\n",
    "                if amt>10:\n",
    "                    vid_x+=amt\n",
    "            if left: \n",
    "                amt = (vid_x - new_x)//30\n",
    "                if amt>10:\n",
    "                    vid_x-=amt\n",
    "#             if abs(new_x - vid_x)>500:\n",
    "#                 pan = True\n",
    "#                 vid_x += avg-500\n",
    "            crop_frame = frame[vid_y:vid_y+vid_h, vid_x:vid_x+vid_w] # Cropping the frame\n",
    "#             pcnt = cnt *100/frames # Percentage\n",
    "\n",
    "            out.write(crop_frame)\n",
    "            # cv2.imwrite('cropped'+str(i)+\".png\",cp)\n",
    "        i += 1\n",
    "    else:\n",
    "        break\n",
    "\n",
    "vidcap.release()\n",
    "cv2.destroyAllWindows()\n",
    "out.release()\n",
    "print(time.time() - s)"
   ]
  },
  {
   "cell_type": "code",
   "execution_count": 48,
   "id": "588fa8b2",
   "metadata": {},
   "outputs": [],
   "source": [
    "df = pd.DataFrame(data, columns = ['frame', 'x', 'w', 'y', 'h'])\n",
    "df['x_mid'] = df['x'] + df['w']*(1/2)\n",
    "\n",
    "df['com'] = df['x_mid']*df['w']\n",
    "\n",
    "# com_df = df[['frame', 'com']].groupby('frame').sum()/(df[['frame', 'w']].groupby('frame').sum().values)\n",
    "\n",
    "com_df = df[['frame', 'x_mid']].groupby('frame').median()"
   ]
  },
  {
   "cell_type": "code",
   "execution_count": 49,
   "id": "14440972",
   "metadata": {},
   "outputs": [
    {
     "output_type": "execute_result",
     "data": {
      "text/plain": [
       "         x_mid\n",
       "frame         \n",
       "0      2744.50\n",
       "1      2726.75\n",
       "2      2939.00\n",
       "3      2723.00\n",
       "4      3131.75\n",
       "...        ...\n",
       "895    2262.00\n",
       "896    1765.00\n",
       "897    2301.00\n",
       "898    1779.00\n",
       "899    1730.75\n",
       "\n",
       "[900 rows x 1 columns]"
      ],
      "text/html": "<div>\n<style scoped>\n    .dataframe tbody tr th:only-of-type {\n        vertical-align: middle;\n    }\n\n    .dataframe tbody tr th {\n        vertical-align: top;\n    }\n\n    .dataframe thead th {\n        text-align: right;\n    }\n</style>\n<table border=\"1\" class=\"dataframe\">\n  <thead>\n    <tr style=\"text-align: right;\">\n      <th></th>\n      <th>x_mid</th>\n    </tr>\n    <tr>\n      <th>frame</th>\n      <th></th>\n    </tr>\n  </thead>\n  <tbody>\n    <tr>\n      <th>0</th>\n      <td>2744.50</td>\n    </tr>\n    <tr>\n      <th>1</th>\n      <td>2726.75</td>\n    </tr>\n    <tr>\n      <th>2</th>\n      <td>2939.00</td>\n    </tr>\n    <tr>\n      <th>3</th>\n      <td>2723.00</td>\n    </tr>\n    <tr>\n      <th>4</th>\n      <td>3131.75</td>\n    </tr>\n    <tr>\n      <th>...</th>\n      <td>...</td>\n    </tr>\n    <tr>\n      <th>895</th>\n      <td>2262.00</td>\n    </tr>\n    <tr>\n      <th>896</th>\n      <td>1765.00</td>\n    </tr>\n    <tr>\n      <th>897</th>\n      <td>2301.00</td>\n    </tr>\n    <tr>\n      <th>898</th>\n      <td>1779.00</td>\n    </tr>\n    <tr>\n      <th>899</th>\n      <td>1730.75</td>\n    </tr>\n  </tbody>\n</table>\n<p>900 rows × 1 columns</p>\n</div>"
     },
     "metadata": {},
     "execution_count": 49
    }
   ],
   "source": [
    "com_df"
   ]
  },
  {
   "cell_type": "code",
   "execution_count": 50,
   "id": "134e9b9b",
   "metadata": {},
   "outputs": [],
   "source": [
    "# cv2.imshow('cropped',crop_frame)"
   ]
  },
  {
   "cell_type": "code",
   "execution_count": null,
   "metadata": {},
   "outputs": [],
   "source": []
  }
 ],
 "metadata": {
  "kernelspec": {
   "name": "python391jvsc74a57bd0672d4ab301d1fdb3010d14097be5a911e982fe1b2a935b3409b208dcf2b7abbe",
   "display_name": "Python 3.9.1 64-bit ('eyeBall': conda)"
  },
  "language_info": {
   "codemirror_mode": {
    "name": "ipython",
    "version": 3
   },
   "file_extension": ".py",
   "mimetype": "text/x-python",
   "name": "python",
   "nbconvert_exporter": "python",
   "pygments_lexer": "ipython3",
   "version": "3.9.1"
  }
 },
 "nbformat": 4,
 "nbformat_minor": 5
}